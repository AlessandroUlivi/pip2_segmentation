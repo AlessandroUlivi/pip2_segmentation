{
 "cells": [
  {
   "cell_type": "markdown",
   "metadata": {},
   "source": [
    "## **Tests a trained model**\n",
    "### **Author:** Alessandro Ulivi (ale.ulivi@gmail.com)\n",
    "### **Start day (yyyy/mm/dd):** 2024/10/21\n",
    "### **Description**\n",
    "#### The notebook loads a model and tests it on a test set.\n",
    "\n",
    "### **Requirements**\n",
    "#### The notebook uploads a saved checkpoint from a trained model. By default the checkpoint is expected in a folder named \"checkpoints\"\n",
    "#### The notebook expects a folder named \"tests\" in the work directory, to save summary writer's outputs.\n",
    "#### The notebook runs on the pip2_segmentation environment and using the scripts of the pip2_segmentation project. Refer to https://github.com/AlessandroUlivi/pip2_segmentation.\n",
    "\n",
    "##**THIS NOTEBOOK IS VERY EARLY IN IT'S DEVELOPMENT PHASE**"
   ]
  },
  {
   "cell_type": "code",
   "execution_count": 1,
   "metadata": {},
   "outputs": [],
   "source": [
    "# load tensorboard extension\n",
    "%load_ext tensorboard"
   ]
  },
  {
   "cell_type": "code",
   "execution_count": 2,
   "metadata": {},
   "outputs": [],
   "source": [
    "#Import required modules\n",
    "import datetime\n",
    "from functools import partial\n",
    "import numpy as np\n",
    "import torch\n",
    "import torch.nn as nn\n",
    "from torch.utils.data import RandomSampler, DataLoader, Subset\n",
    "from dataprep.data_preparation import make_dataset, add_channel, to_tensor, compose\n",
    "from models.unet import UNet\n",
    "from utils.utils_funct import dict2mdtable, load_checkpoint\n",
    "from modeltest.test_model import test_model\n",
    "from metrics.metric import DiceCoefficient, DiceLoss, DiceBCELoss\n",
    "\n",
    "from torch.utils.tensorboard import SummaryWriter\n",
    "# import torchvision.transforms.v2 as transforms_v2"
   ]
  },
  {
   "cell_type": "code",
   "execution_count": null,
   "metadata": {},
   "outputs": [],
   "source": [
    "test_input_data_dir = r\"\"\n",
    "test_label_data_dir = r\"\""
   ]
  },
  {
   "cell_type": "code",
   "execution_count": 4,
   "metadata": {},
   "outputs": [],
   "source": [
    "# Indicate trasformations - #NOTE: Data are not normalized as the normalization had been done at the moment of dataset creation and before chunking the images\n",
    "test_data_transformations = [add_channel, to_tensor]\n",
    "test_trafos = trafos = partial(compose, transforms=test_data_transformations)\n",
    "\n",
    "#create the test dataset\n",
    "test_dataset = make_dataset(test_input_data_dir, test_label_data_dir, transform=test_trafos, shuffle_data=True, stack_axis=0)\n"
   ]
  },
  {
   "cell_type": "code",
   "execution_count": 5,
   "metadata": {},
   "outputs": [
    {
     "data": {
      "text/plain": [
       "Reusing TensorBoard on port 6007 (pid 23760), started 3:54:51 ago. (Use '!kill 23760' to kill it.)"
      ]
     },
     "metadata": {},
     "output_type": "display_data"
    },
    {
     "data": {
      "text/html": [
       "\n",
       "      <iframe id=\"tensorboard-frame-10afbf1f814a8c62\" width=\"100%\" height=\"800\" frameborder=\"0\">\n",
       "      </iframe>\n",
       "      <script>\n",
       "        (function() {\n",
       "          const frame = document.getElementById(\"tensorboard-frame-10afbf1f814a8c62\");\n",
       "          const url = new URL(\"http://localhost\");\n",
       "          const port = 6007;\n",
       "          if (port) {\n",
       "            url.port = port;\n",
       "          }\n",
       "          frame.src = url;\n",
       "        })();\n",
       "      </script>\n",
       "    "
      ],
      "text/plain": [
       "<IPython.core.display.HTML object>"
      ]
     },
     "metadata": {},
     "output_type": "display_data"
    }
   ],
   "source": [
    "# open tensorboard inside of our notebook\n",
    "%tensorboard --logdir tests"
   ]
  },
  {
   "cell_type": "code",
   "execution_count": null,
   "metadata": {},
   "outputs": [],
   "source": [
    "#=========\n",
    "# # pass data to DataLoader\n",
    "batch_size=1\n",
    "\n",
    "#only work on a small subset of the data, for the moment\n",
    "num_test_samples = 4\n",
    "test_sample_ds = Subset(test_dataset, np.arange(num_test_samples))\n",
    "test_sample_sampler = RandomSampler(test_sample_ds)\n",
    "test_loader = DataLoader(test_sample_ds, sampler=test_sample_sampler, batch_size=batch_size)\n",
    "\n",
    "#=========\n",
    "# pass to device\n",
    "# if torch.cuda.is_available:\n",
    "#     print(\"using gpu\")\n",
    "#     device = torch.device(\"cuda\")\n",
    "# else:\n",
    "#     print(\"using cpu\")\n",
    "#     device = torch.device(\"cpu\")\n",
    "device = torch.device(\"cpu\")\n",
    "\n",
    "#=========\n",
    "# set model's parameters\n",
    "final_activation=\"Sigmoid\"\n",
    "depth = 3\n",
    "num_fmaps = 64\n",
    "fmap_inc_factor = 4\n",
    "downsample_factor = 2\n",
    "kernel_size = 3\n",
    "padding = \"valid\"\n",
    "upsample_mode = \"nearest\"\n",
    "unet_model = UNet(depth=depth,\n",
    "                  in_channels=1,\n",
    "                  out_channels=1,\n",
    "                  final_activation=final_activation,\n",
    "                  num_fmaps=num_fmaps,\n",
    "                  fmap_inc_factor=fmap_inc_factor,\n",
    "                  downsample_factor=downsample_factor,\n",
    "                  kernel_size=kernel_size,\n",
    "                  padding=padding,\n",
    "                  upsample_mode=upsample_mode).to(device)\n",
    "\n",
    "#=========\n",
    "# set loss function\n",
    "# loss_function = nn.BCELoss()\n",
    "# loss_function = DiceLoss()\n",
    "loss_function = DiceBCELoss() #for the moment it seems that this is the best\n",
    "# loss_function = BCE_EdgeDiceLoss()\n",
    "use_loss_weights_range=True\n",
    "bce_weight = 1\n",
    "dice_weight = 1\n",
    "loss_function_range = [0,2]\n",
    "\n",
    "#=========\n",
    "# set optimizer\n",
    "lr = 1e-4\n",
    "optimizer = torch.optim.Adam(unet_model.parameters(), lr=lr)\n",
    "\n",
    "#=========\n",
    "# set metrics\n",
    "bin_threshold=0.5\n",
    "metric = DiceCoefficient()\n",
    "\n",
    "#=========\n",
    "# indicate key\n",
    "# runs_counter = get_var_value(filename=\"varstore.dat\")\n",
    "my_key  = \"test_\"+datetime.datetime.now().strftime(\"%Y%m%d-%H%M%S\")\n",
    "\n",
    "# set logger's parameters\n",
    "logger = SummaryWriter(f\"tests/{my_key}\")\n",
    "\n"
   ]
  },
  {
   "cell_type": "code",
   "execution_count": null,
   "metadata": {},
   "outputs": [
    {
     "name": "stderr",
     "output_type": "stream",
     "text": [
      "c:\\Users\\aless\\OneDrive\\Desktop\\Ale\\personal\\projects\\pip2_segmentation\\code\\utils.py:336: FutureWarning: You are using `torch.load` with `weights_only=False` (the current default value), which uses the default pickle module implicitly. It is possible to construct malicious pickle data which will execute arbitrary code during unpickling (See https://github.com/pytorch/pytorch/blob/main/SECURITY.md#untrusted-models for more details). In a future release, the default value for `weights_only` will be flipped to `True`. This limits the functions that could be executed during unpickling. Arbitrary objects will no longer be allowed to be loaded via this mode unless they are explicitly allowlisted by the user via `torch.serialization.add_safe_globals`. We recommend you start setting `weights_only=True` for any use case where you don't have full control of the loaded file. Please open an issue on GitHub for any issues related to this experimental feature.\n",
      "  checkpoint=torch.load(load_path)\n"
     ]
    },
    {
     "ename": "FileNotFoundError",
     "evalue": "[Errno 2] No such file or directory: 'checkpoints\\\\20241113-2343746.pt'",
     "output_type": "error",
     "traceback": [
      "\u001b[1;31m---------------------------------------------------------------------------\u001b[0m",
      "\u001b[1;31mFileNotFoundError\u001b[0m                         Traceback (most recent call last)",
      "Cell \u001b[1;32mIn[26], line 17\u001b[0m\n\u001b[0;32m     15\u001b[0m checkpoint_save_path \u001b[38;5;241m=\u001b[39m \u001b[38;5;124m\"\u001b[39m\u001b[38;5;124mcheckpoints\u001b[39m\u001b[38;5;124m\"\u001b[39m\n\u001b[0;32m     16\u001b[0m checkpoint_key \u001b[38;5;241m=\u001b[39m \u001b[38;5;124m\"\u001b[39m\u001b[38;5;124m20241113-2343746\u001b[39m\u001b[38;5;124m\"\u001b[39m\n\u001b[1;32m---> 17\u001b[0m model, optimizer, epoch \u001b[38;5;241m=\u001b[39m \u001b[43mload_checkpoint\u001b[49m\u001b[43m(\u001b[49m\u001b[43mmodel\u001b[49m\u001b[38;5;241;43m=\u001b[39;49m\u001b[43munet_model\u001b[49m\u001b[43m,\u001b[49m\n\u001b[0;32m     18\u001b[0m \u001b[43m                                          \u001b[49m\u001b[43mpath\u001b[49m\u001b[38;5;241;43m=\u001b[39;49m\u001b[43mcheckpoint_save_path\u001b[49m\u001b[43m,\u001b[49m\n\u001b[0;32m     19\u001b[0m \u001b[43m                                          \u001b[49m\u001b[43moptimizer\u001b[49m\u001b[38;5;241;43m=\u001b[39;49m\u001b[43moptimizer\u001b[49m\u001b[43m,\u001b[49m\n\u001b[0;32m     20\u001b[0m \u001b[43m                                          \u001b[49m\u001b[43mkey\u001b[49m\u001b[38;5;241;43m=\u001b[39;49m\u001b[43mcheckpoint_key\u001b[49m\u001b[43m)\u001b[49m\n\u001b[0;32m     23\u001b[0m \u001b[38;5;66;03m#=========\u001b[39;00m\n\u001b[0;32m     24\u001b[0m \u001b[38;5;66;03m# model's training without validation\u001b[39;00m\n\u001b[0;32m     25\u001b[0m avg_loss_val, avg_metric_val \u001b[38;5;241m=\u001b[39m test_model(model\u001b[38;5;241m=\u001b[39mmodel,\n\u001b[0;32m     26\u001b[0m                                           loader\u001b[38;5;241m=\u001b[39mtest_loader,\n\u001b[0;32m     27\u001b[0m                                           loss_function\u001b[38;5;241m=\u001b[39mloss_function,\n\u001b[1;32m   (...)\u001b[0m\n\u001b[0;32m     33\u001b[0m                                           x_dim\u001b[38;5;241m=\u001b[39m[\u001b[38;5;241m-\u001b[39m\u001b[38;5;241m2\u001b[39m,\u001b[38;5;241m-\u001b[39m\u001b[38;5;241m1\u001b[39m],\n\u001b[0;32m     34\u001b[0m                                           y_dim\u001b[38;5;241m=\u001b[39m[\u001b[38;5;241m-\u001b[39m\u001b[38;5;241m2\u001b[39m,\u001b[38;5;241m-\u001b[39m\u001b[38;5;241m1\u001b[39m])\n",
      "File \u001b[1;32mc:\\Users\\aless\\OneDrive\\Desktop\\Ale\\personal\\projects\\pip2_segmentation\\code\\utils.py:336\u001b[0m, in \u001b[0;36mload_checkpoint\u001b[1;34m(model, path, optimizer, key, map_location)\u001b[0m\n\u001b[0;32m    334\u001b[0m     load_path \u001b[38;5;241m=\u001b[39m os\u001b[38;5;241m.\u001b[39mpath\u001b[38;5;241m.\u001b[39mjoin(path, \u001b[38;5;124mf\u001b[39m\u001b[38;5;124m\"\u001b[39m\u001b[38;5;132;01m{\u001b[39;00mkey\u001b[38;5;132;01m}\u001b[39;00m\u001b[38;5;124m.pt\u001b[39m\u001b[38;5;124m\"\u001b[39m)\n\u001b[0;32m    335\u001b[0m \u001b[38;5;28;01mif\u001b[39;00m map_location\u001b[38;5;241m==\u001b[39m\u001b[38;5;28;01mNone\u001b[39;00m:\n\u001b[1;32m--> 336\u001b[0m     checkpoint\u001b[38;5;241m=\u001b[39m\u001b[43mtorch\u001b[49m\u001b[38;5;241;43m.\u001b[39;49m\u001b[43mload\u001b[49m\u001b[43m(\u001b[49m\u001b[43mload_path\u001b[49m\u001b[43m)\u001b[49m\n\u001b[0;32m    337\u001b[0m \u001b[38;5;28;01melse\u001b[39;00m:\n\u001b[0;32m    338\u001b[0m     checkpoint\u001b[38;5;241m=\u001b[39mtorch\u001b[38;5;241m.\u001b[39mload(load_path, map_location\u001b[38;5;241m=\u001b[39mmap_location)\n",
      "File \u001b[1;32mc:\\Users\\aless\\anaconda3\\envs\\pip2_segmentation\\Lib\\site-packages\\torch\\serialization.py:1065\u001b[0m, in \u001b[0;36mload\u001b[1;34m(f, map_location, pickle_module, weights_only, mmap, **pickle_load_args)\u001b[0m\n\u001b[0;32m   1062\u001b[0m \u001b[38;5;28;01mif\u001b[39;00m \u001b[38;5;124m'\u001b[39m\u001b[38;5;124mencoding\u001b[39m\u001b[38;5;124m'\u001b[39m \u001b[38;5;129;01mnot\u001b[39;00m \u001b[38;5;129;01min\u001b[39;00m pickle_load_args\u001b[38;5;241m.\u001b[39mkeys():\n\u001b[0;32m   1063\u001b[0m     pickle_load_args[\u001b[38;5;124m'\u001b[39m\u001b[38;5;124mencoding\u001b[39m\u001b[38;5;124m'\u001b[39m] \u001b[38;5;241m=\u001b[39m \u001b[38;5;124m'\u001b[39m\u001b[38;5;124mutf-8\u001b[39m\u001b[38;5;124m'\u001b[39m\n\u001b[1;32m-> 1065\u001b[0m \u001b[38;5;28;01mwith\u001b[39;00m \u001b[43m_open_file_like\u001b[49m\u001b[43m(\u001b[49m\u001b[43mf\u001b[49m\u001b[43m,\u001b[49m\u001b[43m \u001b[49m\u001b[38;5;124;43m'\u001b[39;49m\u001b[38;5;124;43mrb\u001b[39;49m\u001b[38;5;124;43m'\u001b[39;49m\u001b[43m)\u001b[49m \u001b[38;5;28;01mas\u001b[39;00m opened_file:\n\u001b[0;32m   1066\u001b[0m     \u001b[38;5;28;01mif\u001b[39;00m _is_zipfile(opened_file):\n\u001b[0;32m   1067\u001b[0m         \u001b[38;5;66;03m# The zipfile reader is going to advance the current file position.\u001b[39;00m\n\u001b[0;32m   1068\u001b[0m         \u001b[38;5;66;03m# If we want to actually tail call to torch.jit.load, we need to\u001b[39;00m\n\u001b[0;32m   1069\u001b[0m         \u001b[38;5;66;03m# reset back to the original position.\u001b[39;00m\n\u001b[0;32m   1070\u001b[0m         orig_position \u001b[38;5;241m=\u001b[39m opened_file\u001b[38;5;241m.\u001b[39mtell()\n",
      "File \u001b[1;32mc:\\Users\\aless\\anaconda3\\envs\\pip2_segmentation\\Lib\\site-packages\\torch\\serialization.py:468\u001b[0m, in \u001b[0;36m_open_file_like\u001b[1;34m(name_or_buffer, mode)\u001b[0m\n\u001b[0;32m    466\u001b[0m \u001b[38;5;28;01mdef\u001b[39;00m \u001b[38;5;21m_open_file_like\u001b[39m(name_or_buffer, mode):\n\u001b[0;32m    467\u001b[0m     \u001b[38;5;28;01mif\u001b[39;00m _is_path(name_or_buffer):\n\u001b[1;32m--> 468\u001b[0m         \u001b[38;5;28;01mreturn\u001b[39;00m \u001b[43m_open_file\u001b[49m\u001b[43m(\u001b[49m\u001b[43mname_or_buffer\u001b[49m\u001b[43m,\u001b[49m\u001b[43m \u001b[49m\u001b[43mmode\u001b[49m\u001b[43m)\u001b[49m\n\u001b[0;32m    469\u001b[0m     \u001b[38;5;28;01melse\u001b[39;00m:\n\u001b[0;32m    470\u001b[0m         \u001b[38;5;28;01mif\u001b[39;00m \u001b[38;5;124m'\u001b[39m\u001b[38;5;124mw\u001b[39m\u001b[38;5;124m'\u001b[39m \u001b[38;5;129;01min\u001b[39;00m mode:\n",
      "File \u001b[1;32mc:\\Users\\aless\\anaconda3\\envs\\pip2_segmentation\\Lib\\site-packages\\torch\\serialization.py:449\u001b[0m, in \u001b[0;36m_open_file.__init__\u001b[1;34m(self, name, mode)\u001b[0m\n\u001b[0;32m    448\u001b[0m \u001b[38;5;28;01mdef\u001b[39;00m \u001b[38;5;21m__init__\u001b[39m(\u001b[38;5;28mself\u001b[39m, name, mode):\n\u001b[1;32m--> 449\u001b[0m     \u001b[38;5;28msuper\u001b[39m()\u001b[38;5;241m.\u001b[39m\u001b[38;5;21m__init__\u001b[39m(\u001b[38;5;28;43mopen\u001b[39;49m\u001b[43m(\u001b[49m\u001b[43mname\u001b[49m\u001b[43m,\u001b[49m\u001b[43m \u001b[49m\u001b[43mmode\u001b[49m\u001b[43m)\u001b[49m)\n",
      "\u001b[1;31mFileNotFoundError\u001b[0m: [Errno 2] No such file or directory: 'checkpoints\\\\20241113-2343746.pt'"
     ]
    }
   ],
   "source": [
    "#=========\n",
    "#=========\n",
    "#=========\n",
    "#THIS PART OF THE CODE IS NOT PROPERLY TESTED.\n",
    "#IN ADDITION, global_step MUST BE CALCULATED TO ENTER avg_loss_val, avg_metric_val IN SUMMARY WRITER\n",
    "#step can be calculated as n_epochs (training) * len(train_loader) (potentially +len(train_loader) need to verify)\n",
    "#=========\n",
    "#=========\n",
    "#=========\n",
    "\n",
    "\n",
    "\n",
    "\n",
    "\n",
    "#=========\n",
    "#load checkpoint of the model to test\n",
    "checkpoint_save_path = \"checkpoints\"\n",
    "checkpoint_key = \"20241113-2343746\"\n",
    "model, optimizer, epoch = load_checkpoint(model=unet_model,\n",
    "                                          path=checkpoint_save_path,\n",
    "                                          optimizer=optimizer,\n",
    "                                          key=checkpoint_key)\n",
    "\n",
    "\n",
    "#=========\n",
    "# model's training without validation\n",
    "avg_loss_val, avg_metric_val = test_model(model=model,\n",
    "                                          loader=test_loader,\n",
    "                                          loss_function=loss_function,\n",
    "                                          metric=metric,\n",
    "                                          bin_threshold=bin_threshold,\n",
    "                                          use_loss_weights_range=use_loss_weights_range,\n",
    "                                          bce_weight=bce_weight,\n",
    "                                          dice_weight=dice_weight,\n",
    "                                          loss_function_range=loss_function_range,\n",
    "                                          step=None,\n",
    "                                          tb_logger=None,\n",
    "                                          device=None,\n",
    "                                          x_dim=[-2,-1],\n",
    "                                          y_dim=[-2,-1])\n",
    "\n",
    "#log avg_loss_val, avg_metric_val to tensorboard\n",
    "# TO DO: CALCULATE STEP\n",
    "global_step = 1000 #this is just a dummy number\n",
    "logger.add_scalar(tag=\"test_avg_loss\", scalar_value=avg_loss_val, global_step=global_step)\n",
    "logger.add_scalar(tag=\"test_avg_metric\", scalar_value=avg_metric_val, global_step=global_step)\n",
    "\n",
    "#=========\n",
    "#log all hyperparameters as text in Tensorboard\n",
    "\n",
    "#transform the rescaling range of the loss function into a string\n",
    "str_loss_function_range = f\"[{loss_function_range[0]},{loss_function_range[1]}]\"\n",
    "\n",
    "#form a dictionary to with all hyperparameters to be logged\n",
    "hparam_dict = {\"train_checkpoint_key\": checkpoint_key,\n",
    "               \"batch_size\":str(batch_size),\n",
    "                \"final_activation\":final_activation,\n",
    "                \"depth\":str(depth),\n",
    "                \"num_fmaps\":str(num_fmaps),\n",
    "                \"fmap_inc_factor\":str(fmap_inc_factor),\n",
    "                \"downsample_factor\":str(downsample_factor),\n",
    "                \"kernel_size\":str(kernel_size),\n",
    "                \"padding\":padding,\n",
    "                \"upsample_mode\":upsample_mode,\n",
    "                \"loss_function\":str(loss_function),\n",
    "                \"use_loss_weights_range\":str(use_loss_weights_range),\n",
    "                \"bce_weight\":str(bce_weight/(bce_weight+dice_weight)),\n",
    "                \"dice_weight\":str(dice_weight/(bce_weight+dice_weight)),\n",
    "                \"loss_function_range\":str_loss_function_range,\n",
    "                \"optimizer\":str(optimizer),\n",
    "                \"bin_threshold\":str(bin_threshold),\n",
    "                \"metric\":str(metric)}\n",
    "\n",
    "#transform the dictionary in a table-like string object\n",
    "hparam_table_like = dict2mdtable(hparam_dict, key='Name', val='Value', transform_2_string=False)\n",
    "\n",
    "#log the text in Tensorboard summary of the run\n",
    "logger.add_text('Hyperparams', hparam_table_like, 1)\n"
   ]
  }
 ],
 "metadata": {
  "kernelspec": {
   "display_name": "pip2_segmentation",
   "language": "python",
   "name": "python3"
  },
  "language_info": {
   "codemirror_mode": {
    "name": "ipython",
    "version": 3
   },
   "file_extension": ".py",
   "mimetype": "text/x-python",
   "name": "python",
   "nbconvert_exporter": "python",
   "pygments_lexer": "ipython3",
   "version": "3.12.5"
  }
 },
 "nbformat": 4,
 "nbformat_minor": 2
}
